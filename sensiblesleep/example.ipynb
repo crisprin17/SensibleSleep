{
 "cells": [
  {
   "cell_type": "code",
   "execution_count": null,
   "metadata": {},
   "outputs": [],
   "source": [
    "import pandas as pd\n",
    "import numpy as np\n",
    "import json\n",
    "import pymc as pm\n",
    "import arviz as az\n",
    "az.style.use(\"arviz-doc\")\n",
    "\n",
    "from sensiblesleep.plot_functions import plot_screen_events, plot_posterior_sleep_wake, plot_logp, plot_DIC, plot_sleep_duration\n",
    "from sensiblesleep.model_functions import is_asleep, create_time_bins, calculate_DIC\n",
    "from sensiblesleep.utils import get_time_from_bin, extract_user_data"
   ]
  },
  {
   "cell_type": "code",
   "execution_count": null,
   "metadata": {},
   "outputs": [],
   "source": [
    "CONFIG = json.load(open(\"sensiblesleep/config.json\"))\n",
    "MODELCONFIG = CONFIG[\"model\"]\n",
    "SAMPLECONFIG = CONFIG[\"sampling\"]"
   ]
  },
  {
   "cell_type": "markdown",
   "metadata": {},
   "source": [
    "# Synthetic data generation"
   ]
  },
  {
   "cell_type": "code",
   "execution_count": null,
   "metadata": {},
   "outputs": [],
   "source": [
    "# Import the generate_synthetic_data function\n",
    "from sensiblesleep.data_generation import generate_synthetic_data\n",
    "\n",
    "# Generate the synthetic data\n",
    "df = generate_synthetic_data()\n",
    "\n",
    "# Display the first few rows\n",
    "df.head()"
   ]
  },
  {
   "cell_type": "markdown",
   "metadata": {},
   "source": [
    "# Extract user data"
   ]
  },
  {
   "cell_type": "code",
   "execution_count": null,
   "metadata": {},
   "outputs": [],
   "source": [
    "n_days, hours, observed_event_counts = extract_user_data(df, user='user_001')\n",
    "n_bins, total_bins, time_bins = create_time_bins(n_days=n_days)\n",
    "\n",
    "# Plot the screen events\n",
    "plot_screen_events(observed_event_counts, time_bins, hours)"
   ]
  },
  {
   "cell_type": "markdown",
   "metadata": {},
   "source": [
    "# Models\n",
    "\n",
    "## Pooled-Pooled Model"
   ]
  },
  {
   "cell_type": "code",
   "execution_count": null,
   "metadata": {},
   "outputs": [],
   "source": [
    "# Build the Pooled-Pooled Model\n",
    "with pm.Model() as pooled_pooled_model:\n",
    "    \n",
    "    # Priors for sleep and wake times (uniform between 0 and 96 bins)\n",
    "    tsleep = pm.DiscreteUniform('tsleep', lower=0, upper=n_bins)\n",
    "    tawake = pm.DiscreteUniform('tawake', lower=0, upper=n_bins)\n",
    "\n",
    "    # Shared rate for awake periods\n",
    "    lambda_awake = pm.Gamma('lambda_awake', alpha=MODELCONFIG['alpha_awake'], beta=MODELCONFIG['beta_awake'])\n",
    "\n",
    "    # Very low rate for sleep periods (prior belief)\n",
    "    lambda_sleep = pm.Exponential('lambda_sleep', lam=MODELCONFIG['lambda_sleep'])\n",
    "\n",
    "    # Create the time bins (reshaped to match broadcasting requirements)\n",
    "    # Expand tsleep and tawake to repeat each day’s value across 96 bins\n",
    "\n",
    "    tsleep_expanded = np.repeat(tsleep, total_bins).reshape((total_bins, 1))\n",
    "    tawake_expanded = np.repeat(tawake, total_bins).reshape((total_bins, 1))\n",
    "\n",
    "    # Calculate the sleep indicator using the expanded tsleep and tawake\n",
    "    sleep_indicator = is_asleep(time_bins, tsleep_expanded, tawake_expanded, n_bins)\n",
    "\n",
    "    # Expected event rate\n",
    "    event_rate = sleep_indicator * lambda_sleep + (1 - sleep_indicator) * lambda_awake\n",
    "    \n",
    "    # Likelihood\n",
    "    likelihood = pm.Poisson('events', mu=event_rate, observed=observed_event_counts.reshape(-1, 1))\n",
    "\n",
    "    # Sampling steps\n",
    "    pooled_pooled_trace = pm.sample(\n",
    "        draws=SAMPLECONFIG['n_samples'],\n",
    "        tune=SAMPLECONFIG['tune'],\n",
    "        cores=SAMPLECONFIG['cores'],\n",
    "        target_accept=SAMPLECONFIG['target_accept'],\n",
    "        compute_convergence_checks=SAMPLECONFIG['compute_convergence_checks'],\n",
    "        random_seed=SAMPLECONFIG['random_seed']\n",
    "    )\n",
    "    \n",
    "    \n",
    "    #pm.sample(SAMPLECONFIG['n_samples'], chains=SAMPLECONFIG['n_chains'],tune=SAMPLECONFIG['tune'], cores=SAMPLECONFIG['cores'], target_accept=SAMPLECONFIG['target_accept'], compute_convergence_checks=SAMPLECONFIG['compute_convergence_checks'], random_seed=SAMPLECONFIG['random_seed'])\n",
    "    pooled_pooled_pp = pm.sample_posterior_predictive(pooled_pooled_trace, progressbar=SAMPLECONFIG['progressbar'])\n",
    "    likelihood_pooled_pooled = pm.compute_log_likelihood(pooled_pooled_trace)\n",
    "    \n",
    "logp_pooled_pooled = pooled_pooled_trace['sample_stats']['lp']"
   ]
  },
  {
   "cell_type": "code",
   "execution_count": null,
   "metadata": {},
   "outputs": [],
   "source": [
    "az.summary(pooled_pooled_trace, var_names=['tsleep', 'tawake', 'lambda_sleep', 'lambda_awake'])\n"
   ]
  }
 ],
 "metadata": {
  "language_info": {
   "name": "python"
  }
 },
 "nbformat": 4,
 "nbformat_minor": 2
}
