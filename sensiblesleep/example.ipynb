{
 "cells": [
  {
   "cell_type": "code",
   "execution_count": null,
   "metadata": {},
   "outputs": [],
   "source": [
    "import pandas as pd\n",
    "import numpy as np\n",
    "import json\n",
    "import pymc as pm\n",
    "import arviz as az\n",
    "az.style.use(\"arviz-doc\")\n",
    "\n",
    "from src.plot_functions import plot_screen_events, plot_posterior_sleep_wake, plot_logp, plot_DIC, plot_sleep_duration\n",
    "from src.model_functions import is_asleep, create_time_bins, calculate_DIC, run_model\n",
    "\n",
    "from src.utils import get_time_from_bin, extract_user_data"
   ]
  },
  {
   "cell_type": "markdown",
   "metadata": {},
   "source": [
    "# Synthetic data generation"
   ]
  },
  {
   "cell_type": "code",
   "execution_count": null,
   "metadata": {},
   "outputs": [],
   "source": [
    "# Import the generate_synthetic_data function\n",
    "from data_generation.data_generation import generate_synthetic_data\n",
    "\n",
    "# Generate the synthetic data\n",
    "df = generate_synthetic_data()\n",
    "\n",
    "# Display the first few rows\n",
    "df.head()"
   ]
  },
  {
   "cell_type": "markdown",
   "metadata": {},
   "source": [
    "# Extract user data"
   ]
  },
  {
   "cell_type": "code",
   "execution_count": null,
   "metadata": {},
   "outputs": [],
   "source": [
    "n_days, bin_hours, observed_event_counts = extract_user_data(df, user='user_001')\n",
    "n_bins, total_bins, time_bins = create_time_bins(n_days=n_days)"
   ]
  },
  {
   "cell_type": "code",
   "execution_count": null,
   "metadata": {},
   "outputs": [],
   "source": [
    "# Plot the screen events\n",
    "plot_screen_events(observed_event_counts=observed_event_counts, n_days=n_days)\n"
   ]
  },
  {
   "cell_type": "markdown",
   "metadata": {},
   "source": [
    "# Models\n",
    "\n",
    "model names: 'pooled_pooled', 'independent_pooled', 'independent_independent', 'hyper_hyper', 'indipendent_hyper'"
   ]
  },
  {
   "cell_type": "code",
   "execution_count": null,
   "metadata": {},
   "outputs": [],
   "source": [
    "# Usage example \n",
    "# 'pooled_pooled', 'independent_pooled', 'independent_independent', 'indipendent_hyper', 'hyper_hyper'\n",
    "model_name = 'hyper_hyper'  \n",
    "trace, posterior_predictive, log_likelihood, logp = run_model(\n",
    "    model_name, observed_event_counts, n_bins, n_days, total_bins, time_bins\n",
    ")"
   ]
  },
  {
   "cell_type": "code",
   "execution_count": null,
   "metadata": {},
   "outputs": [],
   "source": [
    "az.summary(trace, var_names=['tsleep', 'tawake', 'lambda_sleep', 'lambda_awake'])\n"
   ]
  },
  {
   "cell_type": "code",
   "execution_count": null,
   "metadata": {},
   "outputs": [],
   "source": [
    "az.plot_trace(trace, legend=False)\n"
   ]
  },
  {
   "cell_type": "markdown",
   "metadata": {},
   "source": [
    "#### For model selection see model_selection.py\n"
   ]
  },
  {
   "cell_type": "markdown",
   "metadata": {},
   "source": [
    "# Extract sleep information"
   ]
  },
  {
   "cell_type": "code",
   "execution_count": null,
   "metadata": {},
   "outputs": [],
   "source": [
    "tsleep_samples = trace['posterior']['tsleep'].mean(dim=['chain']).values.flatten()\n",
    "tawake_samples = trace['posterior']['tawake'].mean(dim=['chain']).values.flatten()\n",
    "plot_posterior_sleep_wake(tsleep_samples, tawake_samples)\n"
   ]
  },
  {
   "cell_type": "code",
   "execution_count": null,
   "metadata": {},
   "outputs": [],
   "source": [
    "sleep_times = [int(i) for i in trace['posterior']['tsleep'].mean(dim=['chain', 'draw']).values]\n",
    "awake_times = [int(i) for i in trace['posterior']['tawake'].mean(dim=['chain', 'draw']).values]\n",
    "sleep_hours = [(x-y)/4 for x, y in zip(awake_times, sleep_times)]\n",
    "plot_sleep_duration(sleep_hours)    "
   ]
  },
  {
   "cell_type": "code",
   "execution_count": null,
   "metadata": {},
   "outputs": [],
   "source": []
  }
 ],
 "metadata": {
  "kernelspec": {
   "display_name": ".venv",
   "language": "python",
   "name": "python3"
  },
  "language_info": {
   "codemirror_mode": {
    "name": "ipython",
    "version": 3
   },
   "file_extension": ".py",
   "mimetype": "text/x-python",
   "name": "python",
   "nbconvert_exporter": "python",
   "pygments_lexer": "ipython3",
   "version": "3.11.9"
  }
 },
 "nbformat": 4,
 "nbformat_minor": 2
}
